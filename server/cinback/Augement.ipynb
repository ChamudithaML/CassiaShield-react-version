{
 "cells": [
  {
   "cell_type": "code",
   "execution_count": null,
   "id": "25aa851d",
   "metadata": {},
   "outputs": [],
   "source": [
    "print(\"test\")"
   ]
  },
  {
   "cell_type": "markdown",
   "id": "c084d421",
   "metadata": {},
   "source": [
    "# Rotation check for data and Visualisation "
   ]
  },
  {
   "cell_type": "code",
   "execution_count": null,
   "id": "827719f4",
   "metadata": {},
   "outputs": [],
   "source": [
    "import cv2\n",
    "import matplotlib.pyplot as plt\n",
    "\n",
    "# Load the original image\n",
    "image = cv2.imread('your_image.jpg')\n",
    "\n",
    "# Rotate the image by 90 degrees clockwise\n",
    "rotated_image = cv2.rotate(image, cv2.ROTATE_90_CLOCKWISE)\n",
    "\n",
    "# Display the original and rotated images side by side\n",
    "plt.figure(figsize=(10, 5))\n",
    "plt.subplot(1, 2, 1)\n",
    "plt.imshow(cv2.cvtColor(image, cv2.COLOR_BGR2RGB))  # Convert BGR to RGB for display\n",
    "plt.title('Original Image')\n",
    "\n",
    "plt.subplot(1, 2, 2)\n",
    "plt.imshow(cv2.cvtColor(rotated_image, cv2.COLOR_BGR2RGB))  # Convert BGR to RGB for display\n",
    "plt.title('Rotated Image (90 Degrees Clockwise)')\n",
    "\n",
    "plt.show()\n"
   ]
  },
  {
   "cell_type": "code",
   "execution_count": null,
   "id": "551bb0bf",
   "metadata": {},
   "outputs": [],
   "source": [
    "import cv2\n",
    "import matplotlib.pyplot as plt\n",
    "\n",
    "# Load the original image\n",
    "image = cv2.imread('1.jpg')\n",
    "\n",
    "# Rotate the image by 180 degrees clockwise\n",
    "rotated_image = cv2.rotate(image, cv2.ROTATE_180)\n",
    "\n",
    "# Display the original and rotated images side by side\n",
    "plt.figure(figsize=(10, 5))\n",
    "plt.subplot(1, 2, 1)\n",
    "plt.imshow(cv2.cvtColor(image, cv2.COLOR_BGR2RGB))  # Convert BGR to RGB for display\n",
    "plt.title('Original Image')\n",
    "\n",
    "plt.subplot(1, 2, 2)\n",
    "plt.imshow(cv2.cvtColor(rotated_image, cv2.COLOR_BGR2RGB))  # Convert BGR to RGB for display\n",
    "plt.title('Rotated Image (180 Degrees Clockwise)')\n",
    "\n",
    "plt.show()"
   ]
  },
  {
   "cell_type": "code",
   "execution_count": null,
   "id": "7a4cf170",
   "metadata": {},
   "outputs": [],
   "source": [
    "import cv2\n",
    "import matplotlib.pyplot as plt\n",
    "\n",
    "# Load the original image\n",
    "image = cv2.imread('1.jpg')\n",
    "\n",
    "# Rotate the image by 270 degrees clockwise\n",
    "rotated_image = cv2.rotate(image, cv2.ROTATE_90_COUNTERCLOCKWISE)\n",
    "\n",
    "# Display the original and rotated images side by side\n",
    "plt.figure(figsize=(10, 5))\n",
    "plt.subplot(1, 2, 1)\n",
    "plt.imshow(cv2.cvtColor(image, cv2.COLOR_BGR2RGB))  # Convert BGR to RGB for display\n",
    "plt.title('Original Image')\n",
    "\n",
    "plt.subplot(1, 2, 2)\n",
    "plt.imshow(cv2.cvtColor(rotated_image, cv2.COLOR_BGR2RGB))  # Convert BGR to RGB for display\n",
    "plt.title('Rotated Image (270 Degrees Clockwise)')\n",
    "\n",
    "plt.show()"
   ]
  },
  {
   "cell_type": "markdown",
   "id": "5a10e25e",
   "metadata": {},
   "source": [
    "# Leaf mite gall augment by 90 degrees"
   ]
  },
  {
   "cell_type": "code",
   "execution_count": 12,
   "id": "4b18b7c9",
   "metadata": {},
   "outputs": [
    {
     "name": "stdout",
     "output_type": "stream",
     "text": [
      "Images rotated and saved in the 'aug90/augMite90' directory.\n"
     ]
    }
   ],
   "source": [
    "# with new file name\n",
    "\n",
    "import os\n",
    "import cv2\n",
    "\n",
    "# Define the paths to the original and augmented directories\n",
    "original_dir = 'Ori/mite'\n",
    "augmented_dir = 'aug90/augMite90'\n",
    "\n",
    "# Create the augmented directory if it doesn't exist\n",
    "os.makedirs(augmented_dir, exist_ok=True)\n",
    "\n",
    "# Loop through all files in the original directory\n",
    "for i, filename in enumerate(os.listdir(original_dir), 1):\n",
    "    # Check if the file is an image\n",
    "    if filename.endswith('.jpg') or filename.endswith('.jpeg') or filename.endswith('.png'):\n",
    "        # Load the original image\n",
    "        original_image = cv2.imread(os.path.join(original_dir, filename))\n",
    "        \n",
    "        # Rotate the image by 90 degrees clockwise\n",
    "        rotated_image = cv2.rotate(original_image, cv2.ROTATE_90_CLOCKWISE)\n",
    "        \n",
    "        # Generate the new filename\n",
    "        new_filename = f'aug90_{i}.jpg'\n",
    "        \n",
    "        # Save the rotated image to the augmented directory with the new filename\n",
    "        cv2.imwrite(os.path.join(augmented_dir, new_filename), rotated_image)\n",
    "\n",
    "print(\"Images rotated and saved in the 'aug90/augMite90' directory.\")\n"
   ]
  },
  {
   "cell_type": "markdown",
   "id": "ff3353e6",
   "metadata": {},
   "source": [
    "# Normal leaf augment by 90 degrees"
   ]
  },
  {
   "cell_type": "code",
   "execution_count": 14,
   "id": "01c2a326",
   "metadata": {},
   "outputs": [
    {
     "name": "stdout",
     "output_type": "stream",
     "text": [
      "Images rotated and saved in the 'aug90/augNormal90' directory.\n"
     ]
    }
   ],
   "source": [
    "# with new file name\n",
    "\n",
    "import os\n",
    "import cv2\n",
    "\n",
    "# Define the paths to the original and augmented directories\n",
    "original_dir = 'Ori/normal'\n",
    "augmented_dir = 'aug90/augNormal90'\n",
    "\n",
    "# Create the augmented directory if it doesn't exist\n",
    "os.makedirs(augmented_dir, exist_ok=True)\n",
    "\n",
    "# Loop through all files in the original directory\n",
    "for i, filename in enumerate(os.listdir(original_dir), 1):\n",
    "    # Check if the file is an image\n",
    "    if filename.endswith('.jpg') or filename.endswith('.jpeg') or filename.endswith('.png'):\n",
    "        # Load the original image\n",
    "        original_image = cv2.imread(os.path.join(original_dir, filename))\n",
    "        \n",
    "        # Rotate the image by 90 degrees clockwise\n",
    "        rotated_image = cv2.rotate(original_image, cv2.ROTATE_90_CLOCKWISE)\n",
    "        \n",
    "        # Generate the new filename\n",
    "        new_filename = f'aug90_{i}.jpg'\n",
    "        \n",
    "        # Save the rotated image to the augmented directory with the new filename\n",
    "        cv2.imwrite(os.path.join(augmented_dir, new_filename), rotated_image)\n",
    "\n",
    "print(\"Images rotated and saved in the 'aug90/augNormal90' directory.\")\n"
   ]
  },
  {
   "cell_type": "markdown",
   "id": "9db81c44",
   "metadata": {},
   "source": [
    "# Yellow chlorosis augment by 90 degrees"
   ]
  },
  {
   "cell_type": "code",
   "execution_count": 15,
   "id": "5aec6f35",
   "metadata": {},
   "outputs": [
    {
     "name": "stdout",
     "output_type": "stream",
     "text": [
      "Images rotated and saved in the 'aug90/augYellow90' directory.\n"
     ]
    }
   ],
   "source": [
    "# with new file name\n",
    "\n",
    "import os\n",
    "import cv2\n",
    "\n",
    "# Define the paths to the original and augmented directories\n",
    "original_dir = 'Ori/yellow'\n",
    "augmented_dir = 'aug90/augYellow90'\n",
    "\n",
    "# Create the augmented directory if it doesn't exist\n",
    "os.makedirs(augmented_dir, exist_ok=True)\n",
    "\n",
    "# Loop through all files in the original directory\n",
    "for i, filename in enumerate(os.listdir(original_dir), 1):\n",
    "    # Check if the file is an image\n",
    "    if filename.endswith('.jpg') or filename.endswith('.jpeg') or filename.endswith('.png'):\n",
    "        # Load the original image\n",
    "        original_image = cv2.imread(os.path.join(original_dir, filename))\n",
    "        \n",
    "        # Rotate the image by 90 degrees clockwise\n",
    "        rotated_image = cv2.rotate(original_image, cv2.ROTATE_90_CLOCKWISE)\n",
    "        \n",
    "        # Generate the new filename\n",
    "        new_filename = f'aug90_{i}.jpg'\n",
    "        \n",
    "        # Save the rotated image to the augmented directory with the new filename\n",
    "        cv2.imwrite(os.path.join(augmented_dir, new_filename), rotated_image)\n",
    "\n",
    "print(\"Images rotated and saved in the 'aug90/augYellow90' directory.\")\n"
   ]
  },
  {
   "cell_type": "markdown",
   "id": "5bf878c9",
   "metadata": {},
   "source": [
    "# Leaf mite galls 180"
   ]
  },
  {
   "cell_type": "code",
   "execution_count": 16,
   "id": "b84b77bd",
   "metadata": {},
   "outputs": [
    {
     "name": "stdout",
     "output_type": "stream",
     "text": [
      "Images rotated by 180 degrees and saved in the 'original/augMite' directory.\n"
     ]
    }
   ],
   "source": [
    "import os\n",
    "import cv2\n",
    "\n",
    "# Define the paths to the original and augmented directories\n",
    "original_dir = 'ori/mite'\n",
    "augmented_dir = 'aug180/augMite180'\n",
    "\n",
    "# Create the augmented directory if it doesn't exist\n",
    "os.makedirs(augmented_dir, exist_ok=True)\n",
    "\n",
    "# Loop through all files in the original directory\n",
    "for i, filename in enumerate(os.listdir(original_dir), 1):\n",
    "    # Check if the file is an image\n",
    "    if filename.endswith('.jpg') or filename.endswith('.jpeg') or filename.endswith('.png'):\n",
    "        # Load the original image\n",
    "        original_image = cv2.imread(os.path.join(original_dir, filename))\n",
    "        \n",
    "        # Rotate the image by 180 degrees clockwise\n",
    "        rotated_image = cv2.rotate(original_image, cv2.ROTATE_180)\n",
    "        \n",
    "        # Generate the new filename\n",
    "        new_filename = f'aug180_{i}.jpg'\n",
    "        \n",
    "        # Save the rotated image to the augmented directory with the new filename\n",
    "        cv2.imwrite(os.path.join(augmented_dir, new_filename), rotated_image)\n",
    "\n",
    "print(\"Images rotated by 180 degrees and saved in the 'original/augMite' directory.\")\n"
   ]
  },
  {
   "cell_type": "markdown",
   "id": "f5882fcd",
   "metadata": {},
   "source": [
    "# Normal by 180"
   ]
  },
  {
   "cell_type": "code",
   "execution_count": 17,
   "id": "51188a24",
   "metadata": {},
   "outputs": [
    {
     "name": "stdout",
     "output_type": "stream",
     "text": [
      "Images rotated by 180 degrees and saved in the 'original/augNormal' directory.\n"
     ]
    }
   ],
   "source": [
    "import os\n",
    "import cv2\n",
    "\n",
    "# Define the paths to the original and augmented directories\n",
    "original_dir = 'ori/normal'\n",
    "augmented_dir = 'aug180/augNormal180'\n",
    "\n",
    "# Create the augmented directory if it doesn't exist\n",
    "os.makedirs(augmented_dir, exist_ok=True)\n",
    "\n",
    "# Loop through all files in the original directory\n",
    "for i, filename in enumerate(os.listdir(original_dir), 1):\n",
    "    # Check if the file is an image\n",
    "    if filename.endswith('.jpg') or filename.endswith('.jpeg') or filename.endswith('.png'):\n",
    "        # Load the original image\n",
    "        original_image = cv2.imread(os.path.join(original_dir, filename))\n",
    "        \n",
    "        # Rotate the image by 180 degrees clockwise\n",
    "        rotated_image = cv2.rotate(original_image, cv2.ROTATE_180)\n",
    "        \n",
    "        # Generate the new filename\n",
    "        new_filename = f'aug180_{i}.jpg'\n",
    "        \n",
    "        # Save the rotated image to the augmented directory with the new filename\n",
    "        cv2.imwrite(os.path.join(augmented_dir, new_filename), rotated_image)\n",
    "\n",
    "print(\"Images rotated by 180 degrees and saved in the 'original/augNormal' directory.\")\n"
   ]
  },
  {
   "cell_type": "markdown",
   "id": "80413575",
   "metadata": {},
   "source": [
    "# Yellow chlorosis 180"
   ]
  },
  {
   "cell_type": "code",
   "execution_count": 18,
   "id": "fad20777",
   "metadata": {},
   "outputs": [
    {
     "name": "stdout",
     "output_type": "stream",
     "text": [
      "Images rotated by 180 degrees and saved in the 'original/augYellow' directory.\n"
     ]
    }
   ],
   "source": [
    "import os\n",
    "import cv2\n",
    "\n",
    "# Define the paths to the original and augmented directories\n",
    "original_dir = 'ori/yellow'\n",
    "augmented_dir = 'aug180/augYellow180'\n",
    "\n",
    "# Create the augmented directory if it doesn't exist\n",
    "os.makedirs(augmented_dir, exist_ok=True)\n",
    "\n",
    "# Loop through all files in the original directory\n",
    "for i, filename in enumerate(os.listdir(original_dir), 1):\n",
    "    # Check if the file is an image\n",
    "    if filename.endswith('.jpg') or filename.endswith('.jpeg') or filename.endswith('.png'):\n",
    "        # Load the original image\n",
    "        original_image = cv2.imread(os.path.join(original_dir, filename))\n",
    "        \n",
    "        # Rotate the image by 180 degrees clockwise\n",
    "        rotated_image = cv2.rotate(original_image, cv2.ROTATE_180)\n",
    "        \n",
    "        # Generate the new filename\n",
    "        new_filename = f'aug180_{i}.jpg'\n",
    "        \n",
    "        # Save the rotated image to the augmented directory with the new filename\n",
    "        cv2.imwrite(os.path.join(augmented_dir, new_filename), rotated_image)\n",
    "\n",
    "print(\"Images rotated by 180 degrees and saved in the 'original/augYellow' directory.\")\n"
   ]
  },
  {
   "cell_type": "markdown",
   "id": "0963a564",
   "metadata": {},
   "source": [
    "# Leaf mite galls 270"
   ]
  },
  {
   "cell_type": "code",
   "execution_count": 19,
   "id": "6b4f926f",
   "metadata": {},
   "outputs": [
    {
     "name": "stdout",
     "output_type": "stream",
     "text": [
      "Images rotated by 270 degrees and saved in the 'original/augMite' directory.\n"
     ]
    }
   ],
   "source": [
    "import os\n",
    "import cv2\n",
    "\n",
    "# Define the paths to the original and augmented directories\n",
    "original_dir = 'ori/mite'\n",
    "augmented_dir = 'aug270/augMite270'\n",
    "\n",
    "# Create the augmented directory if it doesn't exist\n",
    "os.makedirs(augmented_dir, exist_ok=True)\n",
    "\n",
    "# Loop through all files in the original directory\n",
    "for i, filename in enumerate(os.listdir(original_dir), 1):\n",
    "    # Check if the file is an image\n",
    "    if filename.endswith('.jpg') or filename.endswith('.jpeg') or filename.endswith('.png'):\n",
    "        # Load the original image\n",
    "        original_image = cv2.imread(os.path.join(original_dir, filename))\n",
    "        \n",
    "        # Rotate the image by 270 degrees clockwise\n",
    "        rotated_image = cv2.rotate(original_image, cv2.ROTATE_90_COUNTERCLOCKWISE)\n",
    "        \n",
    "        # Generate the new filename\n",
    "        new_filename = f'aug270_{i}.jpg'\n",
    "        \n",
    "        # Save the rotated image to the augmented directory with the new filename\n",
    "        cv2.imwrite(os.path.join(augmented_dir, new_filename), rotated_image)\n",
    "\n",
    "print(\"Images rotated by 270 degrees and saved in the 'original/augMite' directory.\")\n"
   ]
  },
  {
   "cell_type": "markdown",
   "id": "7c0617d9",
   "metadata": {},
   "source": [
    "# Normal 270"
   ]
  },
  {
   "cell_type": "code",
   "execution_count": 20,
   "id": "57436f77",
   "metadata": {},
   "outputs": [
    {
     "name": "stdout",
     "output_type": "stream",
     "text": [
      "Images rotated by 270 degrees and saved in the 'original/augNormal' directory.\n"
     ]
    }
   ],
   "source": [
    "import os\n",
    "import cv2\n",
    "\n",
    "# Define the paths to the original and augmented directories\n",
    "original_dir = 'ori/normal'\n",
    "augmented_dir = 'aug270/augNormal270'\n",
    "\n",
    "# Create the augmented directory if it doesn't exist\n",
    "os.makedirs(augmented_dir, exist_ok=True)\n",
    "\n",
    "# Loop through all files in the original directory\n",
    "for i, filename in enumerate(os.listdir(original_dir), 1):\n",
    "    # Check if the file is an image\n",
    "    if filename.endswith('.jpg') or filename.endswith('.jpeg') or filename.endswith('.png'):\n",
    "        # Load the original image\n",
    "        original_image = cv2.imread(os.path.join(original_dir, filename))\n",
    "        \n",
    "        # Rotate the image by 270 degrees clockwise\n",
    "        rotated_image = cv2.rotate(original_image, cv2.ROTATE_90_COUNTERCLOCKWISE)\n",
    "        \n",
    "        # Generate the new filename\n",
    "        new_filename = f'aug270_{i}.jpg'\n",
    "        \n",
    "        # Save the rotated image to the augmented directory with the new filename\n",
    "        cv2.imwrite(os.path.join(augmented_dir, new_filename), rotated_image)\n",
    "\n",
    "print(\"Images rotated by 270 degrees and saved in the 'original/augNormal' directory.\")\n"
   ]
  },
  {
   "cell_type": "markdown",
   "id": "731bdd21",
   "metadata": {},
   "source": [
    "# Yellow chlorosis 270"
   ]
  },
  {
   "cell_type": "code",
   "execution_count": 21,
   "id": "d5342f10",
   "metadata": {},
   "outputs": [
    {
     "name": "stdout",
     "output_type": "stream",
     "text": [
      "Images rotated by 270 degrees and saved in the 'original/augYellow' directory.\n"
     ]
    }
   ],
   "source": [
    "import os\n",
    "import cv2\n",
    "\n",
    "# Define the paths to the original and augmented directories\n",
    "original_dir = 'ori/yellow'\n",
    "augmented_dir = 'aug270/augYellow270'\n",
    "\n",
    "# Create the augmented directory if it doesn't exist\n",
    "os.makedirs(augmented_dir, exist_ok=True)\n",
    "\n",
    "# Loop through all files in the original directory\n",
    "for i, filename in enumerate(os.listdir(original_dir), 1):\n",
    "    # Check if the file is an image\n",
    "    if filename.endswith('.jpg') or filename.endswith('.jpeg') or filename.endswith('.png'):\n",
    "        # Load the original image\n",
    "        original_image = cv2.imread(os.path.join(original_dir, filename))\n",
    "        \n",
    "        # Rotate the image by 270 degrees clockwise\n",
    "        rotated_image = cv2.rotate(original_image, cv2.ROTATE_90_COUNTERCLOCKWISE)\n",
    "        \n",
    "        # Generate the new filename\n",
    "        new_filename = f'aug270_{i}.jpg'\n",
    "        \n",
    "        # Save the rotated image to the augmented directory with the new filename\n",
    "        cv2.imwrite(os.path.join(augmented_dir, new_filename), rotated_image)\n",
    "\n",
    "print(\"Images rotated by 270 degrees and saved in the 'original/augYellow' directory.\")\n"
   ]
  },
  {
   "cell_type": "code",
   "execution_count": 22,
   "id": "56336e33",
   "metadata": {},
   "outputs": [
    {
     "name": "stdout",
     "output_type": "stream",
     "text": [
      "Done\n"
     ]
    }
   ],
   "source": [
    "print(\"Done\")"
   ]
  },
  {
   "cell_type": "code",
   "execution_count": null,
   "id": "bb23c99a",
   "metadata": {},
   "outputs": [],
   "source": []
  }
 ],
 "metadata": {
  "kernelspec": {
   "display_name": "Python 3 (ipykernel)",
   "language": "python",
   "name": "python3"
  },
  "language_info": {
   "codemirror_mode": {
    "name": "ipython",
    "version": 3
   },
   "file_extension": ".py",
   "mimetype": "text/x-python",
   "name": "python",
   "nbconvert_exporter": "python",
   "pygments_lexer": "ipython3",
   "version": "3.8.10"
  }
 },
 "nbformat": 4,
 "nbformat_minor": 5
}
